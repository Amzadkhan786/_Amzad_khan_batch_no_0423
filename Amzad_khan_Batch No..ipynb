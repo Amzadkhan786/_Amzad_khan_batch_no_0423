{
 "cells": [
  {
   "cell_type": "code",
   "execution_count": 18,
   "id": "9d691db1",
   "metadata": {
    "scrolled": true
   },
   "outputs": [
    {
     "name": "stdout",
     "output_type": "stream",
     "text": [
      "19350\n",
      "10250\n",
      "15505\n"
     ]
    }
   ],
   "source": [
    "import math\n",
    "#Q1 \n",
    "employees_salary=[25000,50005,45000,19350,25000,10250,15505]\n",
    "for salary in employees_salary:\n",
    "        if salary<25000:\n",
    "            print(salary)"
   ]
  },
  {
   "cell_type": "code",
   "execution_count": 19,
   "id": "8eb35c3f",
   "metadata": {},
   "outputs": [
    {
     "name": "stdout",
     "output_type": "stream",
     "text": [
      "Dear Rohit your Salary Is 5000\n"
     ]
    }
   ],
   "source": [
    "#Q2\n",
    "emp_salary =[2000,4000,5000,6000,6500,6200]\n",
    "emp_name  =[\"Farhad\",\"Shankar\",\"Rohit\",\"Astha\",\"Shital\",\"Abhishek\"]\n",
    "\n",
    "print(\"Dear {} your Salary Is {}\".format(emp_name[2],emp_salary[2]))\n"
   ]
  },
  {
   "cell_type": "markdown",
   "id": "c4237d9e",
   "metadata": {},
   "source": []
  },
  {
   "cell_type": "code",
   "execution_count": 26,
   "id": "ebba910c",
   "metadata": {},
   "outputs": [],
   "source": [
    "def Pr_details(Gender,Date_Of_Birth,Smoker):\n",
    "    if Gender ==\"male\":\n",
    "        if 1990<Date_Of_Birth<=2000:\n",
    "            if Smoker == 'Yes':\n",
    "                print('Your annual primiem is 35000')\n",
    "            else:\n",
    "                print('You Can Apply Discount OF 10% in YOur Primiem')\n",
    "        if 1970<Date_Of_Birth<=1990:\n",
    "            if Smoker == 'Yes':\n",
    "                print('Your annual primiem is 40000')\n",
    "            else:\n",
    "                print('You Can Apply Discount OF 5% in YOur Primiem')\n",
    "    if  Gender ==\"femal\"\n",
    "        if 1990<Date_Of_Birth<=2000:\n",
    "            if Smoker == 'Yes':\n",
    "                print('Your annual primiem is 30000')\n",
    "            else:\n",
    "                print('You Can Apply Discount OF 10% in YOur Primiem')\n",
    "        if 1970<Date_Of_Birth<=1990:\n",
    "            if Smoker == 'Yes':\n",
    "                print('Your annual primiem is 25000')\n",
    "            else:\n",
    "                print('your annaul premium got %5  Dicount')"
   ]
  },
  {
   "cell_type": "code",
   "execution_count": 27,
   "id": "9dcb1b1f",
   "metadata": {},
   "outputs": [
    {
     "name": "stdout",
     "output_type": "stream",
     "text": [
      "You Can Apply Discount OF 10% in YOur Primiem\n"
     ]
    }
   ],
   "source": [
    "Pr_details(\"male\",1991,\"yes\")"
   ]
  },
  {
   "cell_type": "code",
   "execution_count": null,
   "id": "0757433c",
   "metadata": {},
   "outputs": [],
   "source": []
  }
 ],
 "metadata": {
  "kernelspec": {
   "display_name": "Python 3 (ipykernel)",
   "language": "python",
   "name": "python3"
  },
  "language_info": {
   "codemirror_mode": {
    "name": "ipython",
    "version": 3
   },
   "file_extension": ".py",
   "mimetype": "text/x-python",
   "name": "python",
   "nbconvert_exporter": "python",
   "pygments_lexer": "ipython3",
   "version": "3.10.9"
  }
 },
 "nbformat": 4,
 "nbformat_minor": 5
}
